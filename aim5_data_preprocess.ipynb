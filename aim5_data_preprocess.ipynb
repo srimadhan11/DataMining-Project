{
 "cells": [
  {
   "cell_type": "code",
   "execution_count": null,
   "metadata": {
    "id": "f1tjotkpP4Z0"
   },
   "outputs": [],
   "source": [
    "import json\n",
    "import csv"
   ]
  },
  {
   "cell_type": "code",
   "execution_count": null,
   "metadata": {
    "id": "_RHCpOokyQKF"
   },
   "outputs": [],
   "source": [
    "# code to line wrap the putput in this notebook\n",
    "from IPython.display import HTML, display\n",
    "\n",
    "def set_css():\n",
    "  display(HTML('''\n",
    "  <style>\n",
    "    pre {\n",
    "        white-space: pre-wrap;\n",
    "    }\n",
    "  </style>\n",
    "  '''))\n",
    "get_ipython().events.register('pre_run_cell', set_css)"
   ]
  },
  {
   "cell_type": "code",
   "execution_count": null,
   "metadata": {
    "colab": {
     "base_uri": "https://localhost:8080/",
     "height": 17
    },
    "id": "YiEuj8vgVzjI",
    "outputId": "861a530f-bbc2-4db6-fa84-bf8c354d6026"
   },
   "outputs": [
    {
     "data": {
      "text/html": [
       "\n",
       "  <style>\n",
       "    pre {\n",
       "        white-space: pre-wrap;\n",
       "    }\n",
       "  </style>\n",
       "  "
      ],
      "text/plain": [
       "<IPython.core.display.HTML object>"
      ]
     },
     "metadata": {
      "tags": []
     },
     "output_type": "display_data"
    }
   ],
   "source": [
    "f = open('../aim5/Aim5_Data/neighbor-districts.json')"
   ]
  },
  {
   "cell_type": "code",
   "execution_count": null,
   "metadata": {
    "colab": {
     "base_uri": "https://localhost:8080/",
     "height": 35
    },
    "id": "-4LhcAmmVDxu",
    "outputId": "8adc33ee-071d-4a28-a719-b146df40a3a4"
   },
   "outputs": [
    {
     "data": {
      "text/html": [
       "\n",
       "  <style>\n",
       "    pre {\n",
       "        white-space: pre-wrap;\n",
       "    }\n",
       "  </style>\n",
       "  "
      ],
      "text/plain": [
       "<IPython.core.display.HTML object>"
      ]
     },
     "metadata": {
      "tags": []
     },
     "output_type": "display_data"
    },
    {
     "name": "stdout",
     "output_type": "stream",
     "text": [
      "723\n"
     ]
    }
   ],
   "source": [
    "data = json.load(f)\n",
    "print(len(data))\n",
    "data = dict((a.lower(),b) for a,b in data.items())\n",
    "data2 = sorted(data)"
   ]
  },
  {
   "cell_type": "markdown",
   "metadata": {
    "id": "wr33HdeflqKZ"
   },
   "source": [
    "**Solving District names Issues**"
   ]
  },
  {
   "cell_type": "markdown",
   "metadata": {
    "id": "R6hk2vDtl15F"
   },
   "source": [
    "**Installing Libraries**"
   ]
  },
  {
   "cell_type": "code",
   "execution_count": null,
   "metadata": {
    "cellView": "code",
    "colab": {
     "base_uri": "https://localhost:8080/",
     "height": 126
    },
    "id": "kuNtHIjtlvcK",
    "outputId": "4222da7f-92ba-42e4-d001-7aae76d2add9"
   },
   "outputs": [
    {
     "data": {
      "text/html": [
       "\n",
       "  <style>\n",
       "    pre {\n",
       "        white-space: pre-wrap;\n",
       "    }\n",
       "  </style>\n",
       "  "
      ],
      "text/plain": [
       "<IPython.core.display.HTML object>"
      ]
     },
     "metadata": {
      "tags": []
     },
     "output_type": "display_data"
    },
    {
     "name": "stdout",
     "output_type": "stream",
     "text": [
      "Requirement already satisfied: fuzzywuzzy in /usr/local/lib/python3.6/dist-packages (0.18.0)\n",
      "Requirement already satisfied: python-Levenshtein in /usr/local/lib/python3.6/dist-packages (0.12.0)\n",
      "Requirement already satisfied: setuptools in /usr/local/lib/python3.6/dist-packages (from python-Levenshtein) (50.3.2)\n"
     ]
    }
   ],
   "source": [
    "\n",
    "!pip install fuzzywuzzy\n",
    "!pip install python-Levenshtein"
   ]
  },
  {
   "cell_type": "code",
   "execution_count": null,
   "metadata": {
    "id": "UFORVZoYl_li"
   },
   "outputs": [],
   "source": [
    "from fuzzywuzzy import fuzz\n",
    "import pandas as pd\n",
    "\n",
    "repeat_element = set(['hamirpur', 'bilaspur', 'pratapgarh', 'balrampur', 'aurangabad'])\n",
    "\n",
    "repeat_dict = {'hamirpur/Q2086180':'himachal pradesh','hamirpur/Q2019757':'uttar pradesh',\n",
    "               'bilaspur/Q1478939':'himachal pradesh','bilaspur/Q100157':'chhattisgarh',\n",
    "               'pratapgarh/Q1585433':'rajasthan','pratapgarh/Q1473962':'uttar pradesh',\n",
    "               'balrampur/Q16056268':'chhattisgarh','balrampur/Q1948380':'uttar pradesh',\n",
    "               'aurangabad/Q592942':'maharashtra','aurangabad/Q43086': 'bihar'}\n",
    "\n",
    "repeat_dict1 = {'hamirpur':{'himachal pradesh':'hamirpur/Q2086180','uttar pradesh':'hamirpur/Q2019757'},\n",
    "                'bilaspur':{'himachal pradesh':'bilaspur/Q1478939','chhattisgarh':'bilaspur/Q100157'},\n",
    "                'pratapgarh':{'rajasthan':'pratapgarh/Q1585433','uttar pradesh':'pratapgarh/Q1473962'},\n",
    "                'balrampur':{'chhattisgarh':'balrampur/Q16056268','uttar pradesh':'balrampur/Q1948380'},\n",
    "                'aurangabad':{'maharashtra':'aurangabad/Q592942','bihar':'aurangabad/Q43086'}}\n",
    "#repeat_element = set(repeat_element)\n",
    "\n",
    "list1_neighbor = set([i.split('/')[0] for i in data2])\n",
    "list1_neighbor.difference_update(repeat_element)\n",
    "\n",
    "\n",
    "\n",
    "districts = pd.read_csv('../aim5/Aim5_Data/districts.csv')\n",
    "list2 = set(districts['District'].unique())\n",
    "list2 = set([i.lower() for i in list2])\n",
    "list2.difference_update(repeat_element)\n",
    "\n",
    "delhi_list = ['north_delhi', 'north_east_delhi', 'south_west_delhi', 'central_delhi', 'new_delhi', \n",
    "              'east_delhi', 'west_delhi', 'south_delhi', 'north_west_delhi', 'south_east_delhi',\n",
    "              'shahdara']\n",
    "\n",
    "list1_neighbor.difference_update(delhi_list)\n",
    "\n",
    "list1_neighbor.add('delhi')\n",
    "\n",
    "remove_list = ['airport quarantine','bsf camp','capf personnel','railway quarantine','evacuees','italians','other region','others','other state','unknown','foreign evacuees']\n",
    "\n",
    "district_list_neighbor_map = {'aizawl' : ['aizwal'], 'banaskantha' : ['banas_kantha_district'], 'bengaluru rural' : ['bangalore_rural'], 'bengaluru urban' : ['bangalore_urban'], 'boudh' : ['baudh'], 'beed' : ['bid'], 'ferozepur' : ['firozpur'], 'hooghly' : ['hugli'], 'kancheepuram' : ['kanchipuram_district'], 'ganganagar' : ['sri_ganganagar'], 'koderma' : ['kodarma'], 'lahaul and spiti' : ['lahul_and_spiti'], 'navsari' : ['nav_sari_district'], 'narsinghpur' : ['narsimhapur'], 'shahid bhagat singh nagar' : ['shaheed_bhagat_singh_nagar'], 'thoothukkudi' : ['thoothukudi_district'], 'tumakuru' : ['tumkur_district'], 'rajouri' : ['rajauri'], 'rae bareli' : ['rae_bareilly'], 'sabarkantha' : ['sabar_kantha_district'], 'tiruchirappalli' : ['tiruchchirappalli_district'], 'sant kabir nagar' : ['sait_kibir_nagar'], 'yadgir' : ['yadagiri_district'], 'kaimur' : ['kaimur_bhabua'], 's.a.s. nagar' : ['sahibzada_ajit_singh_nagar'], 's.p.s. nellore' : ['sri_potti_sriramulu_nellore'], 'kabeerdham' : ['kabirdham'], 'dakshin bastar dantewada' : ['dantewada'], 'ballari' : ['bellary_district'], 'y.s.r. kadapa' : ['ysr'], 'sivaganga' : ['sivagangai_district'], 'east champaran' : ['purba_champaran'], 'belagavi' : ['belgaum_district'], 'nilgiris' : ['the_nilgiris_district'], 'devbhumi dwarka' : ['devbhumi_dwaraka_district'], 'tirunelveli' : ['tirunelveli_kattabo']}\n",
    "\n",
    "for i in list2.intersection(list1_neighbor):\n",
    "  district_list_neighbor_map[i] = [i]\n",
    "\n",
    "\n",
    "\n",
    "district_list_neighbor_map.pop('kaimur')\n",
    "\n",
    "list2.difference_update(set(remove_list))\n",
    "list2.difference_update(set(district_list_neighbor_map.keys()))\n",
    "\n",
    "\n",
    "list1_neighbor.difference_update(set([v[0] for k,v in district_list_neighbor_map.items()]))\n",
    "\n",
    "temp = list2.intersection(list1_neighbor)\n",
    "\n",
    "list2.difference_update(temp)\n",
    "list1_neighbor.difference_update(temp)\n",
    "\n",
    "\n",
    "#Dealing with '_' differnces in district names\n",
    "\n",
    "\n",
    "for i in list1_neighbor:\n",
    "  if (i.find('_') != -1 and i not in list2):\n",
    "    j = i.replace('_',' ')\n",
    "    if j in list2:\n",
    "      list2.remove(j)\n",
    "      list2.add(i)\n",
    "      if j not in district_list_neighbor_map.keys():\n",
    "        district_list_neighbor_map[j] = [i]\n",
    "      else:\n",
    "        district_list_neighbor_map[j].extend(i)\n",
    "\n",
    "\n",
    "#print((sorted(district_list_neighbor_map.keys())))\n",
    "#Dealing with '_district' differnces in district names\n",
    "for i in list2:\n",
    "  j = i.replace(' ','_')\n",
    "  j = j+'_district'\n",
    "  if j in list1_neighbor:\n",
    "    list2.remove(i)\n",
    "    list2.add(j)\n",
    "    if i not in district_list_neighbor_map.keys():\n",
    "        district_list_neighbor_map[i] = [j]\n",
    "    else:\n",
    "        district_list_neighbor_map[i].append(j)\n",
    "    \n",
    "\n",
    "\n",
    "\n",
    "#Dealing with Spelling mistakes\n",
    "list3 = set([i for i in list2])\n",
    "\n",
    "\n",
    "for i in list1_neighbor:\n",
    "  for j in list3:\n",
    "    if i!=j and fuzz.ratio(i,j) >= 88 and i not in list2 and i not in ['east_karbi_anglong','baleshwar']:\n",
    "      #print(i+\" \"+j)\n",
    "      list2.remove(j)\n",
    "      list2.add(i)\n",
    "      if j not in district_list_neighbor_map.keys():\n",
    "        district_list_neighbor_map[j] = [i]\n",
    "      else:\n",
    "        district_list_neighbor_map[j].append(i)\n",
    "\n",
    "\n",
    "\n",
    "district_neighbor = {'budgam': ['badgam'], 'vijayapura': ['bijapur_district'],'balasore':['baleshwar'],'dang':['the_dangs'], \n",
    "                     'chamarajanagara': ['chamarajanagar_district'], 'deogarh': ['debagarh'], \n",
    "                     'dholpur': ['dhaulpur'], 'karbi anglong': ['east_karbi_anglong'], \n",
    "                     'lakhimpur kheri': ['kheri'], 'mehsana': ['mahesana_district'], \n",
    "                     'sri muktsar sahib': ['muktsar'], 'panchmahal': ['panch_mahal_district'], \n",
    "                     'west champaran': ['pashchim_champaran'], 'west singhbhum': ['pashchimi_singhbhum'],\n",
    "                     'shivamogga': ['shimoga_district'], 'tiruvannamalai': ['tiruvanamalai_district'],\n",
    "                     'mumbai': ['mumbai_city', 'mumbai_suburban'],'east singhbhum' : ['purbi_singhbhum'],\n",
    "                     'ayodhya' : ['faizabad'],'cooch behar':['kochbihar'],'amroha':['jyotiba_phule_nagar'],\n",
    "                     'kaimur':['kaimur_(bhabua)'],'palakkad':['palghat'],'bhadohi':['sant_ravidas_nagar'],\n",
    "                     'subarnapur':['sonapur']}\n",
    "\n",
    "\n",
    "\n",
    "for i in district_neighbor:\n",
    "  for j in district_neighbor[i]:\n",
    "    list2.add(j)\n",
    "    if i not in district_list_neighbor_map.keys():\n",
    "        district_list_neighbor_map[i] = [j]\n",
    "    else:\n",
    "        district_list_neighbor_map[i].append(j)\n",
    "  if i in list2:\n",
    "    list2.remove(i)\n",
    "\n",
    "#print(district_neighbor)\n",
    "\n",
    "\n",
    "list_neighbor_district_map = {}\n",
    "for i in district_list_neighbor_map:\n",
    "  for j in district_list_neighbor_map[i]:\n",
    "    list_neighbor_district_map[j] = i\n",
    "\n",
    "\n",
    "#print(district_list_neighbor_map['bijapur'])\n",
    "\n",
    "\n",
    "list3 = set(sorted(list2.symmetric_difference(list1_neighbor)))\n",
    "\n",
    "\n",
    "\n",
    "print(len((district_list_neighbor_map)))\n",
    "print(len(list_neighbor_district_map))\n",
    "                                                                                                                                                                                                                                                                                                                                                                              \n",
    "print((sorted(list3)))\n",
    "\n",
    "#print((sorted(list2.symmetric_difference(list1_neighbor))))\n",
    "print('shahdara' in list1_neighbor)\n",
    "print('shahdara' in list2)"
   ]
  },
  {
   "cell_type": "code",
   "execution_count": null,
   "metadata": {
    "colab": {
     "base_uri": "https://localhost:8080/",
     "height": 163
    },
    "id": "v_G-ohCbmx9o",
    "outputId": "325cf599-ad5f-4f10-92db-cb1cd1847399"
   },
   "outputs": [
    {
     "data": {
      "text/html": [
       "\n",
       "  <style>\n",
       "    pre {\n",
       "        white-space: pre-wrap;\n",
       "    }\n",
       "  </style>\n",
       "  "
      ],
      "text/plain": [
       "<IPython.core.display.HTML object>"
      ]
     },
     "metadata": {
      "tags": []
     },
     "output_type": "display_data"
    },
    {
     "name": "stdout",
     "output_type": "stream",
     "text": [
      "['bhadradri_kothagudem', 'bishwanath', 'capital complex', 'chengalpattu', 'dima_hasao_district', 'east_sikkim_district', 'gaurela pendra marwahi', 'hnahthial', 'imphal_east', 'imphal_west', 'jayashankar_bhupalapally', 'jogulamba_gadwal', 'kamrup_metropolitan', 'khawzawl', 'konkan_division', 'marigaon', 'noklak', 'north_goa', 'north_sikkim_district', 'rajanna_sircilla', 'ranipet', 'saitual', 'south_goa', 'south_salmara-mankachar', 'south_sikkim_district', 'state pool', 'tenkasi', 'tirupathur', 'warangal_rural', 'warangal_urban', 'west_karbi_anglong', 'west_sikkim_district', 'yadadri_bhuvanagiri', 'yanam']\n"
     ]
    }
   ],
   "source": [
    "# Finding new Districts from json files not present in districts.csv\n",
    "li3 = []\n",
    "for counter in list(range(1,17)):\n",
    "  f = open('../aim5/Aim5_Data/aim5_jsons/raw_data{c}.json'.format(c=counter))\n",
    "  #print(counter)\n",
    "  data1 = json.load(f)\n",
    "\n",
    "  for i in data1['raw_data']:\n",
    "    a = i['detecteddistrict']\n",
    "    b = i['detectedcity']\n",
    "    if a!='':\n",
    "      li3.append(a)\n",
    "    elif b != '' :\n",
    "      li3.append(b)\n",
    "  \n",
    "\n",
    "\n",
    "\n",
    "dis = [i.lower() for i in li3]\n",
    "dis = set(dis)\n",
    "\n",
    "districts = pd.read_csv('../aim5/Aim5_Data/districts.csv')\n",
    "list2 = list(districts['District'])\n",
    "list2 = set([i.lower() for i in list2])\n",
    "\n",
    "\n",
    "\n",
    "dis.remove('.')\n",
    "dis.remove('airport')\n",
    "dis.remove('sarusajai quarantine centre')\n",
    "dis.remove('unassigned')\n",
    "dis.difference_update(list2)\n",
    "#print(sorted(dis.difference(list2)))\n",
    "\n",
    "\n",
    "\n",
    "temp = dis.intersection(list3)\n",
    "\n",
    "\n",
    "json_list_neighbor_map = {}\n",
    "for i in temp:\n",
    "  json_list_neighbor_map[i] = [i]\n",
    "\n",
    "\n",
    "dis.difference_update(temp)\n",
    "list4 = list3.difference(temp)\n",
    "\n",
    "temp1 = {'medchal malkajgiri' : ['medchal–malkajgiri'], 'komaram bheem' : ['komram_bheem'], 'ranga reddy' : ['rangareddy']\n",
    "         ,'mancherial':['mancherial_district']}\n",
    "\n",
    "for j in temp1:\n",
    "  json_list_neighbor_map[j] = temp1[j]\n",
    "\n",
    "\n",
    "for j in temp1:\n",
    "  dis.remove(j)\n",
    "  dis.add(temp1[j][0])\n",
    "  list4.remove(temp1[j][0])\n",
    "dis1 = set(sorted(dis))\n",
    "print(sorted(list4))\n",
    "\n"
   ]
  },
  {
   "cell_type": "code",
   "execution_count": null,
   "metadata": {
    "colab": {
     "base_uri": "https://localhost:8080/",
     "height": 126
    },
    "id": "HfUmYNSOnCCW",
    "outputId": "21602fab-fb19-481b-9e7d-ae45d1c2e498"
   },
   "outputs": [
    {
     "data": {
      "text/html": [
       "\n",
       "  <style>\n",
       "    pre {\n",
       "        white-space: pre-wrap;\n",
       "    }\n",
       "  </style>\n",
       "  "
      ],
      "text/plain": [
       "<IPython.core.display.HTML object>"
      ]
     },
     "metadata": {
      "tags": []
     },
     "output_type": "display_data"
    },
    {
     "name": "stdout",
     "output_type": "stream",
     "text": [
      "['bishwanath', 'capital complex', 'chengalpattu', 'dima_hasao_district', 'east_sikkim_district', 'gaurela pendra marwahi', 'hnahthial', 'khawzawl', 'konkan_division', 'marigaon', 'noklak', 'north_sikkim_district', 'ranipet', 'saitual', 'south_salmara-mankachar', 'south_sikkim_district', 'state pool', 'tenkasi', 'tirupathur', 'west_sikkim_district', 'yanam']\n",
      "79\n"
     ]
    }
   ],
   "source": [
    "\n",
    "\n",
    "for i in list4:\n",
    "\n",
    "  if (i.find('_') != -1):\n",
    "    j = i.replace('_',' ')\n",
    "    if j in dis1:\n",
    "      dis1.remove(j)\n",
    "      dis1.add(i)\n",
    "      if j not in json_list_neighbor_map.keys():\n",
    "        json_list_neighbor_map[j] = [i]\n",
    "      else:\n",
    "        json_list_neighbor_map[j].extend(i)\n",
    "\n",
    "\n",
    "list_neighbor_json_map = {}\n",
    "for i in json_list_neighbor_map:\n",
    "  for j in json_list_neighbor_map[i]:\n",
    "    list_neighbor_json_map[j] = i\n",
    "\n",
    "\n",
    "dis1 = dis1.difference(dis1.difference(list4))\n",
    "\n",
    "print((sorted(list4.difference(dis1))))\n",
    "print(len(json_list_neighbor_map))\n",
    "#print(list_neighbor_json_map)"
   ]
  },
  {
   "cell_type": "markdown",
   "metadata": {
    "id": "dk49bHEmULrA"
   },
   "source": [
    "**Daily counts of each district 15march to 19April**\n",
    "\n"
   ]
  },
  {
   "cell_type": "code",
   "execution_count": null,
   "metadata": {
    "colab": {
     "base_uri": "https://localhost:8080/",
     "height": 290
    },
    "id": "MmOTtBdFuyuW",
    "outputId": "79df0ddf-98fb-40ed-e895-e0f32b9705c2"
   },
   "outputs": [
    {
     "data": {
      "text/html": [
       "\n",
       "  <style>\n",
       "    pre {\n",
       "        white-space: pre-wrap;\n",
       "    }\n",
       "  </style>\n",
       "  "
      ],
      "text/plain": [
       "<IPython.core.display.HTML object>"
      ]
     },
     "metadata": {
      "tags": []
     },
     "output_type": "display_data"
    },
    {
     "name": "stdout",
     "output_type": "stream",
     "text": [
      "dict_keys([Timestamp('2020-03-15 00:00:00'), Timestamp('2020-03-16 00:00:00'), Timestamp('2020-03-17 00:00:00'), Timestamp('2020-03-18 00:00:00'), Timestamp('2020-03-19 00:00:00'), Timestamp('2020-03-20 00:00:00'), Timestamp('2020-03-21 00:00:00'), Timestamp('2020-03-22 00:00:00'), Timestamp('2020-03-23 00:00:00'), Timestamp('2020-03-24 00:00:00'), Timestamp('2020-03-25 00:00:00'), Timestamp('2020-03-26 00:00:00'), Timestamp('2020-03-27 00:00:00'), Timestamp('2020-03-28 00:00:00'), Timestamp('2020-03-29 00:00:00'), Timestamp('2020-03-30 00:00:00'), Timestamp('2020-03-31 00:00:00'), Timestamp('2020-04-01 00:00:00'), Timestamp('2020-04-02 00:00:00'), Timestamp('2020-04-03 00:00:00'), Timestamp('2020-04-04 00:00:00'), Timestamp('2020-04-05 00:00:00'), Timestamp('2020-04-06 00:00:00'), Timestamp('2020-04-07 00:00:00'), Timestamp('2020-04-08 00:00:00'), Timestamp('2020-04-09 00:00:00'), Timestamp('2020-04-10 00:00:00'), Timestamp('2020-04-11 00:00:00'), Timestamp('2020-04-12 00:00:00'), Timestamp('2020-04-13 00:00:00'), Timestamp('2020-04-14 00:00:00'), Timestamp('2020-04-15 00:00:00'), Timestamp('2020-04-16 00:00:00'), Timestamp('2020-04-17 00:00:00'), Timestamp('2020-04-18 00:00:00'), Timestamp('2020-04-19 00:00:00')])\n"
     ]
    }
   ],
   "source": [
    "import pandas as pd\n",
    "import datetime\n",
    "d1 = datetime.datetime(2020,3,15)\n",
    "df = pd.read_csv('../aim5/Aim5_Data/15th_March_19th_April.csv')\n",
    "df['Date Announced'] = df['Date Announced'].apply(lambda x: datetime.datetime.strptime(x,'%d/%m/%Y'))\n",
    "df['Detected District'] = df['Detected District'].str.lower()\n",
    "df['Detected State'] = df['Detected State'].str.lower()\n",
    "df1 = df[['Date Announced','Detected District','Detected State']]\n",
    "check = set(df1['Detected District'].unique())\n",
    "\n",
    "#print(datetime.datetime.strptime('01/04/2020','%d/%m/%Y'))\n",
    "#print(set(df1['Date Announced']))\n",
    "i=0\n",
    "for ind in df1.index:\n",
    "  if df1['Date Announced'][ind] == d1:\n",
    "    break\n",
    "  i+=1\n",
    "\n",
    "df1 = df1.iloc[i:]\n",
    "\n",
    "#temp = df1.dropna()\n",
    "#temp1 = df1.merge(temp, how = 'outer' ,indicator=True).loc[lambda x : x['_merge']=='left_only']\n",
    "#print(temp1)\n",
    "\n",
    "\n",
    "dict1 = {}\n",
    "## Making dictionary of dates and value as another dictionay of city and count 15 March to 19 April\n",
    "for ind in df1.index:\n",
    "  x = df1['Date Announced'][ind]\n",
    "  y = df1['Detected District'][ind] \n",
    "  z = df1['Detected State'][ind]\n",
    "\n",
    "  if pd.isna(z) and pd.isna(y):\n",
    "    continue\n",
    "  elif pd.isna(y) and not pd.isna(z):\n",
    "    if z.find('delhi')!=-1:\n",
    "      y = 'delhi'\n",
    "    else:\n",
    "      continue\n",
    "  if y.find('delhi')!=-1:\n",
    "    y = 'delhi'\n",
    "\n",
    "  if  x not in dict1.keys():\n",
    "    dict2 = {}\n",
    "    if y in repeat_element:     #Working for same name districts\n",
    "      key = repeat_dict1[y][z].lower()\n",
    "      dict2[key] = 1\n",
    "    else:\n",
    "      dict2[y] = 1\n",
    "    dict1[x] = dict2\n",
    "  else:\n",
    "    if y in repeat_element:     #Working for same name districts\n",
    "      key = repeat_dict1[y][z].lower()\n",
    "      if key not in dict1[x].keys():\n",
    "        dict1[x][key]=1\n",
    "      else:\n",
    "        dict1[x][key] = dict1[x][key]+1\n",
    "          \n",
    "    elif y not in dict1[x].keys():\n",
    "      dict1[x][y]=1\n",
    "    else:\n",
    "      dict1[x][y] = dict1[x][y]+1\n",
    "\n",
    "print(dict1.keys())\n",
    "#da = datetime.datetime(2020,3,2)\n",
    "#print(da<d1)\n",
    "\n"
   ]
  },
  {
   "cell_type": "markdown",
   "metadata": {
    "id": "mz-DX_IoqwoO"
   },
   "source": [
    "*Including Json data for missing districts*\n"
   ]
  },
  {
   "cell_type": "code",
   "execution_count": null,
   "metadata": {
    "colab": {
     "base_uri": "https://localhost:8080/",
     "height": 17
    },
    "id": "O0N3j8Hqq8hE",
    "outputId": "e98c6f43-9b76-48b1-f9ac-3c0e868ac412"
   },
   "outputs": [
    {
     "data": {
      "text/html": [
       "\n",
       "  <style>\n",
       "    pre {\n",
       "        white-space: pre-wrap;\n",
       "    }\n",
       "  </style>\n",
       "  "
      ],
      "text/plain": [
       "<IPython.core.display.HTML object>"
      ]
     },
     "metadata": {
      "tags": []
     },
     "output_type": "display_data"
    }
   ],
   "source": [
    "f = open('../aim5/Aim5_Data/aim5_jsons/raw_data1.json')\n",
    "data1 = json.load(f)\n",
    "\n",
    "\n",
    "for i in data1['raw_data']:\n",
    "  a = i['detecteddistrict'].lower()\n",
    "  b = i['detectedcity'].lower()\n",
    "  c = i['detectedstate'].lower()\n",
    "  da = datetime.datetime.strptime(i['dateannounced'],'%d/%m/%Y')\n",
    "  if da<d1 or i['currentstatus'] !='Hospitalized':\n",
    "    continue\n",
    "  \n",
    "  if a!='' and a in json_list_neighbor_map.keys() and a not in check:\n",
    "    \n",
    "    print('reached here')\n",
    "    print(a)\n",
    "    if  da not in dict1.keys():\n",
    "      dict2 = {}\n",
    "      if a in repeat_element:     #Working for same name districts\n",
    "        key = repeat_dict1[a][c].lower()\n",
    "        dict2[key] = 1\n",
    "      else:\n",
    "        dict2[a] = 1\n",
    "      dict1[da] = dict2\n",
    "    else:\n",
    "      if a in repeat_element:     #Working for same name districts\n",
    "        key = repeat_dict1[a][c].lower()\n",
    "        if key not in dict1[x].keys():\n",
    "          dict1[x][key]=1\n",
    "        else:\n",
    "          dict1[x][key] = dict1[x][key]+1\n",
    "\n",
    "      elif a not in dict1[da].keys():\n",
    "        dict1[da][a]=1\n",
    "      else:\n",
    "        dict1[da][a] = dict1[da][a]+1\n",
    "  elif b != '' and b in json_list_neighbor_map.keys() and b not in check:\n",
    "\n",
    "    print('reached here1')\n",
    "    print(b)\n",
    "    if  da not in dict1.keys():\n",
    "      dict2 = {}\n",
    "      if b in repeat_element:     #Working for same name districts\n",
    "        key = repeat_dict1[b][c].lower()\n",
    "        dict2[key] = 1\n",
    "      else:\n",
    "        dict2[b] = 1\n",
    "      dict1[da] = dict2\n",
    "    else:\n",
    "      if b in repeat_element:     #Working for same name districts\n",
    "        key = repeat_dict1[b][c].lower()\n",
    "        if key not in dict1[x].keys():\n",
    "          dict1[x][key]=1\n",
    "        else:\n",
    "          dict1[x][key] = dict1[x][key]+1\n",
    "\n",
    "      elif b not in dict1[da].keys():\n",
    "        dict1[da][b]=1\n",
    "      else:\n",
    "        dict1[da][b] = dict1[da][b]+1\n",
    "\n",
    "#print(dict1)"
   ]
  },
  {
   "cell_type": "markdown",
   "metadata": {
    "id": "fmk1tF-R4_Vg"
   },
   "source": [
    "**Daily counts of each district 20April to 25April**"
   ]
  },
  {
   "cell_type": "code",
   "execution_count": null,
   "metadata": {
    "colab": {
     "base_uri": "https://localhost:8080/",
     "height": 326
    },
    "id": "1U5mzts15Zi2",
    "outputId": "d13803aa-f333-4a58-fec4-7c4a8e5b8a8a"
   },
   "outputs": [
    {
     "data": {
      "text/html": [
       "\n",
       "  <style>\n",
       "    pre {\n",
       "        white-space: pre-wrap;\n",
       "    }\n",
       "  </style>\n",
       "  "
      ],
      "text/plain": [
       "<IPython.core.display.HTML object>"
      ]
     },
     "metadata": {
      "tags": []
     },
     "output_type": "display_data"
    },
    {
     "name": "stdout",
     "output_type": "stream",
     "text": [
      "dict_keys([Timestamp('2020-03-15 00:00:00'), Timestamp('2020-03-16 00:00:00'), Timestamp('2020-03-17 00:00:00'), Timestamp('2020-03-18 00:00:00'), Timestamp('2020-03-19 00:00:00'), Timestamp('2020-03-20 00:00:00'), Timestamp('2020-03-21 00:00:00'), Timestamp('2020-03-22 00:00:00'), Timestamp('2020-03-23 00:00:00'), Timestamp('2020-03-24 00:00:00'), Timestamp('2020-03-25 00:00:00'), Timestamp('2020-03-26 00:00:00'), Timestamp('2020-03-27 00:00:00'), Timestamp('2020-03-28 00:00:00'), Timestamp('2020-03-29 00:00:00'), Timestamp('2020-03-30 00:00:00'), Timestamp('2020-03-31 00:00:00'), Timestamp('2020-04-01 00:00:00'), Timestamp('2020-04-02 00:00:00'), Timestamp('2020-04-03 00:00:00'), Timestamp('2020-04-04 00:00:00'), Timestamp('2020-04-05 00:00:00'), Timestamp('2020-04-06 00:00:00'), Timestamp('2020-04-07 00:00:00'), Timestamp('2020-04-08 00:00:00'), Timestamp('2020-04-09 00:00:00'), Timestamp('2020-04-10 00:00:00'), Timestamp('2020-04-11 00:00:00'), Timestamp('2020-04-12 00:00:00'), Timestamp('2020-04-13 00:00:00'), Timestamp('2020-04-14 00:00:00'), Timestamp('2020-04-15 00:00:00'), Timestamp('2020-04-16 00:00:00'), Timestamp('2020-04-17 00:00:00'), Timestamp('2020-04-18 00:00:00'), Timestamp('2020-04-19 00:00:00'), Timestamp('2020-04-20 00:00:00'), Timestamp('2020-04-21 00:00:00'), Timestamp('2020-04-22 00:00:00'), Timestamp('2020-04-23 00:00:00'), Timestamp('2020-04-24 00:00:00'), Timestamp('2020-04-25 00:00:00')])\n"
     ]
    }
   ],
   "source": [
    "d1 = datetime.datetime(2020,4,26)\n",
    "df2 = pd.read_csv('../aim5/Aim5_Data/aim5_jsons/20th_April_26th_April.csv')\n",
    "df2['Date Announced'] = df2['Date Announced'].apply(lambda x: datetime.datetime.strptime(x,'%d/%m/%Y'))\n",
    "df2['Detected District'] = df2['Detected District'].str.lower()\n",
    "df2['Detected State'] = df2['Detected State'].str.lower()\n",
    "df2 = df2[['Date Announced','Detected District','Detected State']]\n",
    "\n",
    "check = set(df2['Detected District'].unique())\n",
    "i=0\n",
    "for ind in df2.index:\n",
    "  if df2['Date Announced'][ind] == d1:\n",
    "    break\n",
    "  i+=1\n",
    "\n",
    "df2 = df2.iloc[:i]\n",
    "\n",
    "#df2.dropna(inplace=True)\n",
    "#temp = df2.dropna()\n",
    "#temp1 = df2.merge(temp, how = 'outer' ,indicator=True).loc[lambda x : x['_merge']=='left_only']\n",
    "\n",
    "dict3 = {}\n",
    "## Making dictionary of dates and value as another dictionay of city and count 20 April to 25 April\n",
    "for ind in df2.index:\n",
    "  x = df2['Date Announced'][ind]\n",
    "  y = df2['Detected District'][ind] \n",
    "  z = df2['Detected State'][ind]\n",
    "\n",
    "  if pd.isna(z) and pd.isna(y):\n",
    "    continue\n",
    "  elif pd.isna(y) and not pd.isna(z):\n",
    "    if z.find('delhi')!=-1:\n",
    "      y = 'delhi'\n",
    "    else:\n",
    "      continue\n",
    "  if y.find('delhi')!=-1:\n",
    "    y = 'delhi'\n",
    "\n",
    "  if  x not in dict3.keys():\n",
    "    dict4 = {}\n",
    "    if y in repeat_element:     #Working for same name districts\n",
    "      key = repeat_dict1[y][z].lower()\n",
    "      dict4[key] = 1\n",
    "    else:\n",
    "      dict4[y] = 1\n",
    "    dict3[x] = dict4\n",
    "  else:\n",
    "    if y in repeat_element:     #Working for same name districts\n",
    "      key = repeat_dict1[y][z].lower()\n",
    "      if key not in dict3[x].keys():\n",
    "        dict3[x][key]=1\n",
    "      else:\n",
    "        dict3[x][key] = dict3[x][key]+1\n",
    "          \n",
    "    elif y not in dict3[x].keys():\n",
    "      dict3[x][y]=1\n",
    "    else:\n",
    "      dict3[x][y] = dict3[x][y]+1\n",
    "\n",
    "\n",
    "dict1.update(dict3)\n",
    "print(dict1.keys())"
   ]
  },
  {
   "cell_type": "markdown",
   "metadata": {
    "id": "YVwiwr4sHjK6"
   },
   "source": [
    "**Total cases of each district till April 25**"
   ]
  },
  {
   "cell_type": "code",
   "execution_count": null,
   "metadata": {
    "colab": {
     "base_uri": "https://localhost:8080/",
     "height": 35
    },
    "id": "kmsXtANKxCyi",
    "outputId": "b58b44c2-46fe-46ab-b0cb-370b6cc5fb33"
   },
   "outputs": [
    {
     "data": {
      "text/html": [
       "\n",
       "  <style>\n",
       "    pre {\n",
       "        white-space: pre-wrap;\n",
       "    }\n",
       "  </style>\n",
       "  "
      ],
      "text/plain": [
       "<IPython.core.display.HTML object>"
      ]
     },
     "metadata": {
      "tags": []
     },
     "output_type": "display_data"
    },
    {
     "name": "stdout",
     "output_type": "stream",
     "text": [
      "433\n"
     ]
    }
   ],
   "source": [
    "dict2 = {}\n",
    "for i in dict1:\n",
    "  for j in dict1[i]:\n",
    "    if j not in dict2.keys():\n",
    "      dict2[j] = dict1[i][j]\n",
    "    else:\n",
    "      dict2[j] = dict1[i][j]+dict2[j]\n",
    "print(len(dict2))\n"
   ]
  },
  {
   "cell_type": "markdown",
   "metadata": {
    "id": "ytYgH8369h-V"
   },
   "source": [
    "**Generating cases 26th April onwards from district.csv**"
   ]
  },
  {
   "cell_type": "code",
   "execution_count": null,
   "metadata": {
    "colab": {
     "base_uri": "https://localhost:8080/",
     "height": 1000
    },
    "id": "YhuRv3MA9pNa",
    "outputId": "bfd96b69-e1cd-4964-f6fa-354fc3ab1d0c"
   },
   "outputs": [
    {
     "data": {
      "text/html": [
       "\n",
       "  <style>\n",
       "    pre {\n",
       "        white-space: pre-wrap;\n",
       "    }\n",
       "  </style>\n",
       "  "
      ],
      "text/plain": [
       "<IPython.core.display.HTML object>"
      ]
     },
     "metadata": {
      "tags": []
     },
     "output_type": "display_data"
    },
    {
     "name": "stdout",
     "output_type": "stream",
     "text": [
      "dict_keys([Timestamp('2020-03-15 00:00:00'), Timestamp('2020-03-16 00:00:00'), Timestamp('2020-03-17 00:00:00'), Timestamp('2020-03-18 00:00:00'), Timestamp('2020-03-19 00:00:00'), Timestamp('2020-03-20 00:00:00'), Timestamp('2020-03-21 00:00:00'), Timestamp('2020-03-22 00:00:00'), Timestamp('2020-03-23 00:00:00'), Timestamp('2020-03-24 00:00:00'), Timestamp('2020-03-25 00:00:00'), Timestamp('2020-03-26 00:00:00'), Timestamp('2020-03-27 00:00:00'), Timestamp('2020-03-28 00:00:00'), Timestamp('2020-03-29 00:00:00'), Timestamp('2020-03-30 00:00:00'), Timestamp('2020-03-31 00:00:00'), Timestamp('2020-04-01 00:00:00'), Timestamp('2020-04-02 00:00:00'), Timestamp('2020-04-03 00:00:00'), Timestamp('2020-04-04 00:00:00'), Timestamp('2020-04-05 00:00:00'), Timestamp('2020-04-06 00:00:00'), Timestamp('2020-04-07 00:00:00'), Timestamp('2020-04-08 00:00:00'), Timestamp('2020-04-09 00:00:00'), Timestamp('2020-04-10 00:00:00'), Timestamp('2020-04-11 00:00:00'), Timestamp('2020-04-12 00:00:00'), Timestamp('2020-04-13 00:00:00'), Timestamp('2020-04-14 00:00:00'), Timestamp('2020-04-15 00:00:00'), Timestamp('2020-04-16 00:00:00'), Timestamp('2020-04-17 00:00:00'), Timestamp('2020-04-18 00:00:00'), Timestamp('2020-04-19 00:00:00'), Timestamp('2020-04-20 00:00:00'), Timestamp('2020-04-21 00:00:00'), Timestamp('2020-04-22 00:00:00'), Timestamp('2020-04-23 00:00:00'), Timestamp('2020-04-24 00:00:00'), Timestamp('2020-04-25 00:00:00'), Timestamp('2020-04-26 00:00:00'), Timestamp('2020-04-27 00:00:00'), Timestamp('2020-04-28 00:00:00'), Timestamp('2020-04-29 00:00:00'), Timestamp('2020-04-30 00:00:00'), Timestamp('2020-05-01 00:00:00'), Timestamp('2020-05-02 00:00:00'), Timestamp('2020-05-03 00:00:00'), Timestamp('2020-05-04 00:00:00'), Timestamp('2020-05-05 00:00:00'), Timestamp('2020-05-06 00:00:00'), Timestamp('2020-05-07 00:00:00'), Timestamp('2020-05-08 00:00:00'), Timestamp('2020-05-09 00:00:00'), Timestamp('2020-05-10 00:00:00'), Timestamp('2020-05-11 00:00:00'), Timestamp('2020-05-12 00:00:00'), Timestamp('2020-05-13 00:00:00'), Timestamp('2020-05-14 00:00:00'), Timestamp('2020-05-15 00:00:00'), Timestamp('2020-05-16 00:00:00'), Timestamp('2020-05-17 00:00:00'), Timestamp('2020-05-18 00:00:00'), Timestamp('2020-05-19 00:00:00'), Timestamp('2020-05-20 00:00:00'), Timestamp('2020-05-21 00:00:00'), Timestamp('2020-05-22 00:00:00'), Timestamp('2020-05-23 00:00:00'), Timestamp('2020-05-24 00:00:00'), Timestamp('2020-05-25 00:00:00'), Timestamp('2020-05-26 00:00:00'), Timestamp('2020-05-27 00:00:00'), Timestamp('2020-05-28 00:00:00'), Timestamp('2020-05-29 00:00:00'), Timestamp('2020-05-30 00:00:00'), Timestamp('2020-05-31 00:00:00'), Timestamp('2020-06-01 00:00:00'), Timestamp('2020-06-02 00:00:00'), Timestamp('2020-06-03 00:00:00'), Timestamp('2020-06-04 00:00:00'), Timestamp('2020-06-05 00:00:00'), Timestamp('2020-06-06 00:00:00'), Timestamp('2020-06-07 00:00:00'), Timestamp('2020-06-08 00:00:00'), Timestamp('2020-06-09 00:00:00'), Timestamp('2020-06-10 00:00:00'), Timestamp('2020-06-11 00:00:00'), Timestamp('2020-06-12 00:00:00'), Timestamp('2020-06-13 00:00:00'), Timestamp('2020-06-14 00:00:00'), Timestamp('2020-06-15 00:00:00'), Timestamp('2020-06-16 00:00:00'), Timestamp('2020-06-17 00:00:00'), Timestamp('2020-06-18 00:00:00'), Timestamp('2020-06-19 00:00:00'), Timestamp('2020-06-20 00:00:00'), Timestamp('2020-06-21 00:00:00'), Timestamp('2020-06-22 00:00:00'), Timestamp('2020-06-23 00:00:00'), Timestamp('2020-06-24 00:00:00'), Timestamp('2020-06-25 00:00:00'), Timestamp('2020-06-26 00:00:00'), Timestamp('2020-06-27 00:00:00'), Timestamp('2020-06-28 00:00:00'), Timestamp('2020-06-29 00:00:00'), Timestamp('2020-06-30 00:00:00'), Timestamp('2020-07-01 00:00:00'), Timestamp('2020-07-02 00:00:00'), Timestamp('2020-07-03 00:00:00'), Timestamp('2020-07-04 00:00:00'), Timestamp('2020-07-05 00:00:00'), Timestamp('2020-07-06 00:00:00'), Timestamp('2020-07-07 00:00:00'), Timestamp('2020-07-08 00:00:00'), Timestamp('2020-07-09 00:00:00'), Timestamp('2020-07-10 00:00:00'), Timestamp('2020-07-11 00:00:00'), Timestamp('2020-07-12 00:00:00'), Timestamp('2020-07-13 00:00:00'), Timestamp('2020-07-14 00:00:00'), Timestamp('2020-07-15 00:00:00'), Timestamp('2020-07-16 00:00:00'), Timestamp('2020-07-17 00:00:00'), Timestamp('2020-07-18 00:00:00'), Timestamp('2020-07-19 00:00:00'), Timestamp('2020-07-20 00:00:00'), Timestamp('2020-07-21 00:00:00'), Timestamp('2020-07-22 00:00:00'), Timestamp('2020-07-23 00:00:00'), Timestamp('2020-07-24 00:00:00'), Timestamp('2020-07-25 00:00:00'), Timestamp('2020-07-26 00:00:00'), Timestamp('2020-07-27 00:00:00'), Timestamp('2020-07-28 00:00:00'), Timestamp('2020-07-29 00:00:00'), Timestamp('2020-07-30 00:00:00'), Timestamp('2020-07-31 00:00:00'), Timestamp('2020-08-01 00:00:00'), Timestamp('2020-08-02 00:00:00'), Timestamp('2020-08-03 00:00:00'), Timestamp('2020-08-04 00:00:00'), Timestamp('2020-08-05 00:00:00'), Timestamp('2020-08-06 00:00:00'), Timestamp('2020-08-07 00:00:00'), Timestamp('2020-08-08 00:00:00'), Timestamp('2020-08-09 00:00:00'), Timestamp('2020-08-10 00:00:00'), Timestamp('2020-08-11 00:00:00'), Timestamp('2020-08-12 00:00:00'), Timestamp('2020-08-13 00:00:00'), Timestamp('2020-08-14 00:00:00'), Timestamp('2020-08-15 00:00:00'), Timestamp('2020-08-16 00:00:00'), Timestamp('2020-08-17 00:00:00'), Timestamp('2020-08-18 00:00:00'), Timestamp('2020-08-19 00:00:00'), Timestamp('2020-08-20 00:00:00'), Timestamp('2020-08-21 00:00:00'), Timestamp('2020-08-22 00:00:00'), Timestamp('2020-08-23 00:00:00'), Timestamp('2020-08-24 00:00:00'), Timestamp('2020-08-25 00:00:00'), Timestamp('2020-08-26 00:00:00'), Timestamp('2020-08-27 00:00:00'), Timestamp('2020-08-28 00:00:00'), Timestamp('2020-08-29 00:00:00'), Timestamp('2020-08-30 00:00:00'), Timestamp('2020-08-31 00:00:00'), Timestamp('2020-09-01 00:00:00'), Timestamp('2020-09-02 00:00:00'), Timestamp('2020-09-03 00:00:00'), Timestamp('2020-09-04 00:00:00'), Timestamp('2020-09-05 00:00:00'), Timestamp('2020-09-06 00:00:00'), Timestamp('2020-09-07 00:00:00'), Timestamp('2020-09-08 00:00:00'), Timestamp('2020-09-09 00:00:00'), Timestamp('2020-09-10 00:00:00'), Timestamp('2020-09-11 00:00:00'), Timestamp('2020-09-12 00:00:00'), Timestamp('2020-09-13 00:00:00'), Timestamp('2020-09-14 00:00:00'), Timestamp('2020-09-15 00:00:00'), Timestamp('2020-09-16 00:00:00'), Timestamp('2020-09-17 00:00:00'), Timestamp('2020-09-18 00:00:00'), Timestamp('2020-09-19 00:00:00'), Timestamp('2020-09-20 00:00:00'), Timestamp('2020-09-21 00:00:00'), Timestamp('2020-09-22 00:00:00'), Timestamp('2020-09-23 00:00:00'), Timestamp('2020-09-24 00:00:00'), Timestamp('2020-09-25 00:00:00'), Timestamp('2020-09-26 00:00:00'), Timestamp('2020-09-27 00:00:00'), Timestamp('2020-09-28 00:00:00'), Timestamp('2020-09-29 00:00:00'), Timestamp('2020-09-30 00:00:00'), Timestamp('2020-10-01 00:00:00'), Timestamp('2020-10-02 00:00:00'), Timestamp('2020-10-03 00:00:00'), Timestamp('2020-10-04 00:00:00'), Timestamp('2020-10-05 00:00:00'), Timestamp('2020-10-06 00:00:00'), Timestamp('2020-10-07 00:00:00'), Timestamp('2020-10-08 00:00:00'), Timestamp('2020-10-09 00:00:00'), Timestamp('2020-10-10 00:00:00'), Timestamp('2020-10-11 00:00:00'), Timestamp('2020-10-12 00:00:00'), Timestamp('2020-10-13 00:00:00'), Timestamp('2020-10-14 00:00:00'), Timestamp('2020-10-15 00:00:00'), Timestamp('2020-10-16 00:00:00'), Timestamp('2020-10-17 00:00:00'), Timestamp('2020-10-18 00:00:00'), Timestamp('2020-10-19 00:00:00'), Timestamp('2020-10-20 00:00:00'), Timestamp('2020-10-21 00:00:00'), Timestamp('2020-10-22 00:00:00'), Timestamp('2020-10-23 00:00:00'), Timestamp('2020-10-24 00:00:00'), Timestamp('2020-10-25 00:00:00'), Timestamp('2020-10-26 00:00:00'), Timestamp('2020-10-27 00:00:00'), Timestamp('2020-10-28 00:00:00'), Timestamp('2020-10-29 00:00:00'), Timestamp('2020-10-30 00:00:00'), Timestamp('2020-10-31 00:00:00'), Timestamp('2020-11-01 00:00:00'), Timestamp('2020-11-02 00:00:00'), Timestamp('2020-11-03 00:00:00'), Timestamp('2020-11-04 00:00:00'), Timestamp('2020-11-05 00:00:00'), Timestamp('2020-11-06 00:00:00'), Timestamp('2020-11-07 00:00:00'), Timestamp('2020-11-08 00:00:00'), Timestamp('2020-11-09 00:00:00'), Timestamp('2020-11-10 00:00:00'), Timestamp('2020-11-11 00:00:00'), Timestamp('2020-11-12 00:00:00'), Timestamp('2020-11-13 00:00:00'), Timestamp('2020-11-14 00:00:00'), Timestamp('2020-11-15 00:00:00'), Timestamp('2020-11-16 00:00:00'), Timestamp('2020-11-17 00:00:00'), Timestamp('2020-11-18 00:00:00'), Timestamp('2020-11-19 00:00:00'), Timestamp('2020-11-20 00:00:00'), Timestamp('2020-11-21 00:00:00'), Timestamp('2020-11-22 00:00:00'), Timestamp('2020-11-23 00:00:00'), Timestamp('2020-11-24 00:00:00'), Timestamp('2020-11-25 00:00:00'), Timestamp('2020-11-26 00:00:00'), Timestamp('2020-11-27 00:00:00'), Timestamp('2020-11-28 00:00:00')])\n"
     ]
    }
   ],
   "source": [
    "df3 = pd.read_csv('../aim5/Aim5_Data/districts.csv')\n",
    "df3['Date'] = df3['Date'].apply(lambda x: datetime.datetime.strptime(x,'%Y-%m-%d'))\n",
    "df3['District'] = df3['District'].str.lower()\n",
    "df3['State'] = df3['State'].str.lower()\n",
    "df3 = df3[['Date','State','District','Confirmed']]\n",
    "check = set(df3['District'].unique())\n",
    "\n",
    "for ind in df3.index:\n",
    "  \n",
    "  w = df3['State'][ind]\n",
    "  x = df3['Date'][ind]\n",
    "  y = df3['District'][ind]\n",
    "  z = int(df3['Confirmed'][ind])\n",
    "\n",
    "  if y == 'kishanganj' and w == 'assam':\n",
    "    continue  \n",
    "  if x not in dict1.keys():\n",
    "    dict4 = {}\n",
    "    if y in repeat_element:\n",
    "      key = repeat_dict1[y][w].lower()\n",
    "      if key not in dict2.keys():\n",
    "        dict4[key] = z\n",
    "        dict2[key] = z\n",
    "          \n",
    "      elif dict2[key] > z:\n",
    "        dict4[key] = 0\n",
    "      else:\n",
    "        dict4[key] = z - dict2[key]\n",
    "      \n",
    "      if dict4[y]<0:\n",
    "        print(x)\n",
    "        print(y)\n",
    "        print(dict4[y])\n",
    "        print('error1')\n",
    "        break\n",
    "      dict2[key] += dict4[key]  \n",
    "\n",
    "    elif y not in dict2.keys():\n",
    "      dict4[y] = z\n",
    "      dict2[y] = z\n",
    "    else:\n",
    "\n",
    "      if dict2[y] > z:\n",
    "        dict4[y] = 0\n",
    "      else:\n",
    "        dict4[y] = z - dict2[y]\n",
    "      \n",
    "      if dict4[y]<0:\n",
    "        print(x)\n",
    "        print(y)\n",
    "        print(dict4[y])\n",
    "        print('error1')\n",
    "        break\n",
    "      dict2[y] += dict4[y]\n",
    "    dict1[x] = dict4 \n",
    "\n",
    "  else:\n",
    "\n",
    "    if y in repeat_element:\n",
    "      key = repeat_dict1[y][w].lower()\n",
    "      if key not in dict2.keys():\n",
    "        dict1[x][key] = z\n",
    "        dict2[key] = z\n",
    "          \n",
    "      elif dict2[key] > z:\n",
    "        dict1[x][key] = 0\n",
    "      else:\n",
    "        dict1[x][key] = z - dict2[key]\n",
    "      \n",
    "      if dict1[x][key]<0:\n",
    "        print(x)\n",
    "        print(y)\n",
    "        print(dict1[x][key])\n",
    "        print('error1')\n",
    "        break\n",
    "      dict2[key] += dict1[x][key]  \n",
    "\n",
    "    elif y not in dict2.keys():\n",
    "      dict1[x][y] = z\n",
    "      dict2[y] = z\n",
    "    else:\n",
    "      if dict2[y] > z:\n",
    "        dict1[x][y] = 0\n",
    "      else:\n",
    "        dict1[x][y] = z - dict2[y]\n",
    "\n",
    "      if dict1[x][y]<0:\n",
    "        print(x)\n",
    "        print(y)\n",
    "        print(z)\n",
    "        print(dict2[y])\n",
    "        print(dict1[x][y])\n",
    "        print('error2')\n",
    "        break\n",
    "      dict2[y] += dict1[x][y]\n",
    "  \n",
    "\n",
    "print(dict1.keys())\n",
    "#print(dict1[datetime.datetime(2020,5,1)]) \n",
    "\n",
    "\n"
   ]
  },
  {
   "cell_type": "markdown",
   "metadata": {
    "id": "lwqfoqGJnwKm"
   },
   "source": [
    "**Generating cases 26th April onwards from .jsons**"
   ]
  },
  {
   "cell_type": "code",
   "execution_count": null,
   "metadata": {
    "colab": {
     "base_uri": "https://localhost:8080/",
     "height": 1000
    },
    "id": "XBS7tSwOn_Ur",
    "outputId": "9c22d198-2ec2-4399-f103-e5e759b613a1"
   },
   "outputs": [
    {
     "data": {
      "text/html": [
       "\n",
       "  <style>\n",
       "    pre {\n",
       "        white-space: pre-wrap;\n",
       "    }\n",
       "  </style>\n",
       "  "
      ],
      "text/plain": [
       "<IPython.core.display.HTML object>"
      ]
     },
     "metadata": {
      "tags": []
     },
     "output_type": "display_data"
    },
    {
     "name": "stdout",
     "output_type": "stream",
     "text": [
      "dict_keys([Timestamp('2020-03-15 00:00:00'), Timestamp('2020-03-16 00:00:00'), Timestamp('2020-03-17 00:00:00'), Timestamp('2020-03-18 00:00:00'), Timestamp('2020-03-19 00:00:00'), Timestamp('2020-03-20 00:00:00'), Timestamp('2020-03-21 00:00:00'), Timestamp('2020-03-22 00:00:00'), Timestamp('2020-03-23 00:00:00'), Timestamp('2020-03-24 00:00:00'), Timestamp('2020-03-25 00:00:00'), Timestamp('2020-03-26 00:00:00'), Timestamp('2020-03-27 00:00:00'), Timestamp('2020-03-28 00:00:00'), Timestamp('2020-03-29 00:00:00'), Timestamp('2020-03-30 00:00:00'), Timestamp('2020-03-31 00:00:00'), Timestamp('2020-04-01 00:00:00'), Timestamp('2020-04-02 00:00:00'), Timestamp('2020-04-03 00:00:00'), Timestamp('2020-04-04 00:00:00'), Timestamp('2020-04-05 00:00:00'), Timestamp('2020-04-06 00:00:00'), Timestamp('2020-04-07 00:00:00'), Timestamp('2020-04-08 00:00:00'), Timestamp('2020-04-09 00:00:00'), Timestamp('2020-04-10 00:00:00'), Timestamp('2020-04-11 00:00:00'), Timestamp('2020-04-12 00:00:00'), Timestamp('2020-04-13 00:00:00'), Timestamp('2020-04-14 00:00:00'), Timestamp('2020-04-15 00:00:00'), Timestamp('2020-04-16 00:00:00'), Timestamp('2020-04-17 00:00:00'), Timestamp('2020-04-18 00:00:00'), Timestamp('2020-04-19 00:00:00'), Timestamp('2020-04-20 00:00:00'), Timestamp('2020-04-21 00:00:00'), Timestamp('2020-04-22 00:00:00'), Timestamp('2020-04-23 00:00:00'), Timestamp('2020-04-24 00:00:00'), Timestamp('2020-04-25 00:00:00'), Timestamp('2020-04-26 00:00:00'), Timestamp('2020-04-27 00:00:00'), Timestamp('2020-04-28 00:00:00'), Timestamp('2020-04-29 00:00:00'), Timestamp('2020-04-30 00:00:00'), Timestamp('2020-05-01 00:00:00'), Timestamp('2020-05-02 00:00:00'), Timestamp('2020-05-03 00:00:00'), Timestamp('2020-05-04 00:00:00'), Timestamp('2020-05-05 00:00:00'), Timestamp('2020-05-06 00:00:00'), Timestamp('2020-05-07 00:00:00'), Timestamp('2020-05-08 00:00:00'), Timestamp('2020-05-09 00:00:00'), Timestamp('2020-05-10 00:00:00'), Timestamp('2020-05-11 00:00:00'), Timestamp('2020-05-12 00:00:00'), Timestamp('2020-05-13 00:00:00'), Timestamp('2020-05-14 00:00:00'), Timestamp('2020-05-15 00:00:00'), Timestamp('2020-05-16 00:00:00'), Timestamp('2020-05-17 00:00:00'), Timestamp('2020-05-18 00:00:00'), Timestamp('2020-05-19 00:00:00'), Timestamp('2020-05-20 00:00:00'), Timestamp('2020-05-21 00:00:00'), Timestamp('2020-05-22 00:00:00'), Timestamp('2020-05-23 00:00:00'), Timestamp('2020-05-24 00:00:00'), Timestamp('2020-05-25 00:00:00'), Timestamp('2020-05-26 00:00:00'), Timestamp('2020-05-27 00:00:00'), Timestamp('2020-05-28 00:00:00'), Timestamp('2020-05-29 00:00:00'), Timestamp('2020-05-30 00:00:00'), Timestamp('2020-05-31 00:00:00'), Timestamp('2020-06-01 00:00:00'), Timestamp('2020-06-02 00:00:00'), Timestamp('2020-06-03 00:00:00'), Timestamp('2020-06-04 00:00:00'), Timestamp('2020-06-05 00:00:00'), Timestamp('2020-06-06 00:00:00'), Timestamp('2020-06-07 00:00:00'), Timestamp('2020-06-08 00:00:00'), Timestamp('2020-06-09 00:00:00'), Timestamp('2020-06-10 00:00:00'), Timestamp('2020-06-11 00:00:00'), Timestamp('2020-06-12 00:00:00'), Timestamp('2020-06-13 00:00:00'), Timestamp('2020-06-14 00:00:00'), Timestamp('2020-06-15 00:00:00'), Timestamp('2020-06-16 00:00:00'), Timestamp('2020-06-17 00:00:00'), Timestamp('2020-06-18 00:00:00'), Timestamp('2020-06-19 00:00:00'), Timestamp('2020-06-20 00:00:00'), Timestamp('2020-06-21 00:00:00'), Timestamp('2020-06-22 00:00:00'), Timestamp('2020-06-23 00:00:00'), Timestamp('2020-06-24 00:00:00'), Timestamp('2020-06-25 00:00:00'), Timestamp('2020-06-26 00:00:00'), Timestamp('2020-06-27 00:00:00'), Timestamp('2020-06-28 00:00:00'), Timestamp('2020-06-29 00:00:00'), Timestamp('2020-06-30 00:00:00'), Timestamp('2020-07-01 00:00:00'), Timestamp('2020-07-02 00:00:00'), Timestamp('2020-07-03 00:00:00'), Timestamp('2020-07-04 00:00:00'), Timestamp('2020-07-05 00:00:00'), Timestamp('2020-07-06 00:00:00'), Timestamp('2020-07-07 00:00:00'), Timestamp('2020-07-08 00:00:00'), Timestamp('2020-07-09 00:00:00'), Timestamp('2020-07-10 00:00:00'), Timestamp('2020-07-11 00:00:00'), Timestamp('2020-07-12 00:00:00'), Timestamp('2020-07-13 00:00:00'), Timestamp('2020-07-14 00:00:00'), Timestamp('2020-07-15 00:00:00'), Timestamp('2020-07-16 00:00:00'), Timestamp('2020-07-17 00:00:00'), Timestamp('2020-07-18 00:00:00'), Timestamp('2020-07-19 00:00:00'), Timestamp('2020-07-20 00:00:00'), Timestamp('2020-07-21 00:00:00'), Timestamp('2020-07-22 00:00:00'), Timestamp('2020-07-23 00:00:00'), Timestamp('2020-07-24 00:00:00'), Timestamp('2020-07-25 00:00:00'), Timestamp('2020-07-26 00:00:00'), Timestamp('2020-07-27 00:00:00'), Timestamp('2020-07-28 00:00:00'), Timestamp('2020-07-29 00:00:00'), Timestamp('2020-07-30 00:00:00'), Timestamp('2020-07-31 00:00:00'), Timestamp('2020-08-01 00:00:00'), Timestamp('2020-08-02 00:00:00'), Timestamp('2020-08-03 00:00:00'), Timestamp('2020-08-04 00:00:00'), Timestamp('2020-08-05 00:00:00'), Timestamp('2020-08-06 00:00:00'), Timestamp('2020-08-07 00:00:00'), Timestamp('2020-08-08 00:00:00'), Timestamp('2020-08-09 00:00:00'), Timestamp('2020-08-10 00:00:00'), Timestamp('2020-08-11 00:00:00'), Timestamp('2020-08-12 00:00:00'), Timestamp('2020-08-13 00:00:00'), Timestamp('2020-08-14 00:00:00'), Timestamp('2020-08-15 00:00:00'), Timestamp('2020-08-16 00:00:00'), Timestamp('2020-08-17 00:00:00'), Timestamp('2020-08-18 00:00:00'), Timestamp('2020-08-19 00:00:00'), Timestamp('2020-08-20 00:00:00'), Timestamp('2020-08-21 00:00:00'), Timestamp('2020-08-22 00:00:00'), Timestamp('2020-08-23 00:00:00'), Timestamp('2020-08-24 00:00:00'), Timestamp('2020-08-25 00:00:00'), Timestamp('2020-08-26 00:00:00'), Timestamp('2020-08-27 00:00:00'), Timestamp('2020-08-28 00:00:00'), Timestamp('2020-08-29 00:00:00'), Timestamp('2020-08-30 00:00:00'), Timestamp('2020-08-31 00:00:00'), Timestamp('2020-09-01 00:00:00'), Timestamp('2020-09-02 00:00:00'), Timestamp('2020-09-03 00:00:00'), Timestamp('2020-09-04 00:00:00'), Timestamp('2020-09-05 00:00:00'), Timestamp('2020-09-06 00:00:00'), Timestamp('2020-09-07 00:00:00'), Timestamp('2020-09-08 00:00:00'), Timestamp('2020-09-09 00:00:00'), Timestamp('2020-09-10 00:00:00'), Timestamp('2020-09-11 00:00:00'), Timestamp('2020-09-12 00:00:00'), Timestamp('2020-09-13 00:00:00'), Timestamp('2020-09-14 00:00:00'), Timestamp('2020-09-15 00:00:00'), Timestamp('2020-09-16 00:00:00'), Timestamp('2020-09-17 00:00:00'), Timestamp('2020-09-18 00:00:00'), Timestamp('2020-09-19 00:00:00'), Timestamp('2020-09-20 00:00:00'), Timestamp('2020-09-21 00:00:00'), Timestamp('2020-09-22 00:00:00'), Timestamp('2020-09-23 00:00:00'), Timestamp('2020-09-24 00:00:00'), Timestamp('2020-09-25 00:00:00'), Timestamp('2020-09-26 00:00:00'), Timestamp('2020-09-27 00:00:00'), Timestamp('2020-09-28 00:00:00'), Timestamp('2020-09-29 00:00:00'), Timestamp('2020-09-30 00:00:00'), Timestamp('2020-10-01 00:00:00'), Timestamp('2020-10-02 00:00:00'), Timestamp('2020-10-03 00:00:00'), Timestamp('2020-10-04 00:00:00'), Timestamp('2020-10-05 00:00:00'), Timestamp('2020-10-06 00:00:00'), Timestamp('2020-10-07 00:00:00'), Timestamp('2020-10-08 00:00:00'), Timestamp('2020-10-09 00:00:00'), Timestamp('2020-10-10 00:00:00'), Timestamp('2020-10-11 00:00:00'), Timestamp('2020-10-12 00:00:00'), Timestamp('2020-10-13 00:00:00'), Timestamp('2020-10-14 00:00:00'), Timestamp('2020-10-15 00:00:00'), Timestamp('2020-10-16 00:00:00'), Timestamp('2020-10-17 00:00:00'), Timestamp('2020-10-18 00:00:00'), Timestamp('2020-10-19 00:00:00'), Timestamp('2020-10-20 00:00:00'), Timestamp('2020-10-21 00:00:00'), Timestamp('2020-10-22 00:00:00'), Timestamp('2020-10-23 00:00:00'), Timestamp('2020-10-24 00:00:00'), Timestamp('2020-10-25 00:00:00'), Timestamp('2020-10-26 00:00:00'), Timestamp('2020-10-27 00:00:00'), Timestamp('2020-10-28 00:00:00'), Timestamp('2020-10-29 00:00:00'), Timestamp('2020-10-30 00:00:00'), Timestamp('2020-10-31 00:00:00'), Timestamp('2020-11-01 00:00:00'), Timestamp('2020-11-02 00:00:00'), Timestamp('2020-11-03 00:00:00'), Timestamp('2020-11-04 00:00:00'), Timestamp('2020-11-05 00:00:00'), Timestamp('2020-11-06 00:00:00'), Timestamp('2020-11-07 00:00:00'), Timestamp('2020-11-08 00:00:00'), Timestamp('2020-11-09 00:00:00'), Timestamp('2020-11-10 00:00:00'), Timestamp('2020-11-11 00:00:00'), Timestamp('2020-11-12 00:00:00'), Timestamp('2020-11-13 00:00:00'), Timestamp('2020-11-14 00:00:00'), Timestamp('2020-11-15 00:00:00'), Timestamp('2020-11-16 00:00:00'), Timestamp('2020-11-17 00:00:00'), Timestamp('2020-11-18 00:00:00'), Timestamp('2020-11-19 00:00:00'), Timestamp('2020-11-20 00:00:00'), Timestamp('2020-11-21 00:00:00'), Timestamp('2020-11-22 00:00:00'), Timestamp('2020-11-23 00:00:00'), Timestamp('2020-11-24 00:00:00'), Timestamp('2020-11-25 00:00:00'), Timestamp('2020-11-26 00:00:00'), Timestamp('2020-11-27 00:00:00'), Timestamp('2020-11-28 00:00:00')])\n"
     ]
    }
   ],
   "source": [
    "d1 = datetime.datetime(2020,10,5)\n",
    "for counter in list(range(3,15)):\n",
    "  f = open('../aim5/Aim5_Data/aim5_jsons/raw_data{c}.json'.format(c = counter))\n",
    "  data1 = json.load(f)\n",
    "\n",
    "\n",
    "  for i in data1['raw_data']:\n",
    "    a = i['detecteddistrict'].lower()\n",
    "    b = i['detectedcity'].lower()\n",
    "    c = i['detectedstate'].lower()\n",
    "    numcases = i['numcases']\n",
    "    val = i['dateannounced']\n",
    "    if val == '' or numcases=='' or i['currentstatus'] !='Hospitalized':\n",
    "      continue\n",
    "    da = datetime.datetime.strptime(val,'%d/%m/%Y')\n",
    "    if da > d1:\n",
    "      continue\n",
    "    numcases = int(numcases)\n",
    "    if a!='' and  a in json_list_neighbor_map.keys() and a not in check :\n",
    "\n",
    "      #print(da)\n",
    "      #print(a)\n",
    "      if  da not in dict1.keys():\n",
    "        dict4 = {}\n",
    "        if a in repeat_element and c!='':     #Working for same name districts\n",
    "          key = repeat_dict1[a][c].lower()\n",
    "          dict4[key] = numcases\n",
    "        elif a not in repeat_element:\n",
    "          dict4[a] = numcases\n",
    "        dict1[da] = dict4\n",
    "      \n",
    "      else:\n",
    "        if a in repeat_element and c!='':     #Working for same name districts\n",
    "          key = repeat_dict1[a][c].lower()\n",
    "          if key not in dict1[da].keys():\n",
    "            dict1[da][key]=numcases\n",
    "          else:\n",
    "            dict1[da][key] = dict1[da][key]+numcases\n",
    "\n",
    "        elif a not in dict1[da].keys() and a not in repeat_element:\n",
    "          dict1[da][a]=numcases\n",
    "        else:\n",
    "          dict1[da][a] = dict1[da][a]+numcases\n",
    "    elif b != '' and b in json_list_neighbor_map.keys() and b not in check:\n",
    "\n",
    "      #print('reached here1')\n",
    "      #print(b)\n",
    "      if  da not in dict1.keys():\n",
    "        dict4 = {}\n",
    "        if b in repeat_element and c!='':     #Working for same name districts\n",
    "          key = repeat_dict1[b][c].lower()\n",
    "          dict4[key] = numcases\n",
    "\n",
    "        elif b not in repeat_element:\n",
    "          dict4[b] = numcases\n",
    "        dict1[da] = dict4\n",
    "\n",
    "      else:\n",
    "        if b in repeat_element and c!='':     #Working for same name districts\n",
    "          key = repeat_dict1[b][c].lower()\n",
    "          if key not in dict1[da].keys():\n",
    "            dict1[da][key]=numcases\n",
    "          else:\n",
    "            dict1[da][key] = dict1[da][key]+numcases\n",
    "\n",
    "        elif b not in dict1[da].keys() and b not in repeat_element:\n",
    "          dict1[da][b]=numcases\n",
    "        else:\n",
    "          dict1[da][b] = dict1[da][b]+numcases\n",
    "\n",
    "print(dict1.keys())\n"
   ]
  },
  {
   "cell_type": "code",
   "execution_count": null,
   "metadata": {
    "colab": {
     "base_uri": "https://localhost:8080/",
     "height": 17
    },
    "id": "g4oqbC4LVEaS",
    "outputId": "0ee89ce9-f320-44a8-8e17-f6cfcfcf887c"
   },
   "outputs": [
    {
     "data": {
      "text/html": [
       "\n",
       "  <style>\n",
       "    pre {\n",
       "        white-space: pre-wrap;\n",
       "    }\n",
       "  </style>\n",
       "  "
      ],
      "text/plain": [
       "<IPython.core.display.HTML object>"
      ]
     },
     "metadata": {
      "tags": []
     },
     "output_type": "display_data"
    }
   ],
   "source": [
    "serialized_d = {str(k): v for k, v in dict1.items()}\n",
    "\n",
    "with open('../aim5/Aim5_Data/processed_data.json','w') as f:\n",
    "  json.dump(serialized_d,f,indent=3)"
   ]
  }
 ],
 "metadata": {
  "colab": {
   "collapsed_sections": [],
   "name": "Assign1.ipynb",
   "provenance": [],
   "toc_visible": true
  },
  "kernelspec": {
   "display_name": "Python 3",
   "language": "python",
   "name": "python3"
  },
  "language_info": {
   "codemirror_mode": {
    "name": "ipython",
    "version": 3
   },
   "file_extension": ".py",
   "mimetype": "text/x-python",
   "name": "python",
   "nbconvert_exporter": "python",
   "pygments_lexer": "ipython3",
   "version": "3.7.3"
  }
 },
 "nbformat": 4,
 "nbformat_minor": 1
}
